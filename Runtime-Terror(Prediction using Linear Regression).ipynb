{
 "cells": [
  {
   "cell_type": "markdown",
   "id": "a90f2817",
   "metadata": {},
   "source": [
    "# Optum Stratathon Season 3"
   ]
  },
  {
   "cell_type": "markdown",
   "id": "d98a8a57",
   "metadata": {},
   "source": [
    "## Team Runtime-Terror: Members: Kshitiz Priyam, Shruti Bibra(Team Leader) & Kashish Goswami"
   ]
  },
  {
   "cell_type": "markdown",
   "id": "257311fc",
   "metadata": {},
   "source": [
    "### Taken Patients Database(Coverage & Expenses)"
   ]
  },
  {
   "cell_type": "code",
   "execution_count": 1,
   "id": "cf78b8ff",
   "metadata": {},
   "outputs": [
    {
     "name": "stdout",
     "output_type": "stream",
     "text": [
      "(1171, 1) (1171, 1)\n",
      "[[ 271227.08]\n",
      " [ 793946.01]\n",
      " [ 574111.9 ]\n",
      " ...\n",
      " [1560540.35]\n",
      " [1375833.47]\n",
      " [1510158.34]]\n"
     ]
    }
   ],
   "source": [
    "import numpy as np\n",
    "import pandas as pd\n",
    "import matplotlib.pyplot as plt\n",
    "\n",
    "#Get the training data\n",
    "urlx = \"https://raw.githubusercontent.com/kshitizpriyam/OptumDatabaseTeamRuntime-Terror/main/Patients%20x-axis.csv\"\n",
    "dfx = pd.read_csv(urlx)\n",
    "urly = \"https://raw.githubusercontent.com/kshitizpriyam/OptumDatabaseTeamRuntime-Terror/main/Patients%20y-axis.csv\"\n",
    "dfy = pd.read_csv(urly)\n",
    "\n",
    "dfx = dfx.values\n",
    "dfy = dfy.values\n",
    "\n",
    "x = dfx.reshape((-1,1))\n",
    "y = dfy.reshape((-1,1))\n",
    "\n",
    "print(x.shape, y.shape)\n",
    "print(x)"
   ]
  },
  {
   "cell_type": "markdown",
   "id": "151ee18e",
   "metadata": {},
   "source": [
    "## Data Pre Processing & Visualization"
   ]
  },
  {
   "cell_type": "code",
   "execution_count": 2,
   "id": "1666fa05",
   "metadata": {},
   "outputs": [
    {
     "data": {
      "image/png": "[encoded data removed]",
      "text/plain": [
       "<Figure size 432x288 with 1 Axes>"
      ]
     },
     "metadata": {
      "needs_background": "light"
     },
     "output_type": "display_data"
    }
   ],
   "source": [
    "X = (x-x.mean())/x.std()\n",
    "Y = y\n",
    "plt.scatter(X,Y)\n",
    "plt.show()"
   ]
  },
  {
   "cell_type": "markdown",
   "id": "0be1cd55",
   "metadata": {},
   "source": [
    "# Gradient Descent Algorithm "
   ]
  },
  {
   "cell_type": "code",
   "execution_count": 3,
   "id": "0110ce69",
   "metadata": {},
   "outputs": [],
   "source": [
    "def hypothesis(x,theta):\n",
    "    return theta[0] + theta[1]*x"
   ]
  },
  {
   "cell_type": "code",
   "execution_count": 4,
   "id": "044617b9",
   "metadata": {},
   "outputs": [],
   "source": [
    "def error(X,Y,theta):\n",
    "    m = X.shape[0]\n",
    "    error = 0\n",
    "    for i in range(m):\n",
    "        hx = hypothesis(X[i], theta)\n",
    "        error += (hx - Y[i])**2\n",
    "    return error "
   ]
  },
  {
   "cell_type": "code",
   "execution_count": 5,
   "id": "7ed98e2e",
   "metadata": {},
   "outputs": [],
   "source": [
    "def gradient(X,Y,theta):\n",
    "    \n",
    "    grad = np.zeros((2, ))\n",
    "    for i in range(X.shape[0]):\n",
    "        hx = hypothesis(X[i], theta)\n",
    "        grad[0] += (hx - Y[i])\n",
    "        grad[1] += (hx - Y[i])*X[i]\n",
    "        \n",
    "        \n",
    "    return grad"
   ]
  },
  {
   "cell_type": "code",
   "execution_count": 6,
   "id": "161d9807",
   "metadata": {},
   "outputs": [],
   "source": [
    "def gradientDescent(X,Y,learning_rate=0.001):\n",
    "    \n",
    "    #random theta\n",
    "    theta = np.array([-2.0,0.0])\n",
    "    \n",
    "    \n",
    "    itr=0\n",
    "    max_iteration = 100\n",
    "    \n",
    "    error_list = []\n",
    "    theta_list = []\n",
    "    while(itr<=max_iteration):\n",
    "        grad = gradient(X,Y,theta)\n",
    "        err = error(X,Y,theta)\n",
    "        error_list.append(err)\n",
    "        theta_list.append((theta[0],theta[1]))\n",
    "        theta[0] = theta[0] - learning_rate*grad[0]\n",
    "        theta[1] = theta[1] - learning_rate*grad[1]\n",
    "        \n",
    "        itr =  itr + 1\n",
    "        \n",
    "    return theta,error_list,theta_list\n",
    "\n",
    "final_theta, error_list, theta_list = gradientDescent(X,Y)"
   ]
  },
  {
   "cell_type": "code",
   "execution_count": 7,
   "id": "8a86651a",
   "metadata": {},
   "outputs": [
    {
     "data": {
      "image/png": "[encoded data removed]",
      "text/plain": [
       "<Figure size 432x288 with 1 Axes>"
      ]
     },
     "metadata": {
      "needs_background": "light"
     },
     "output_type": "display_data"
    }
   ],
   "source": [
    "plt.plot(error_list)\n",
    "plt.show()   "
   ]
  },
  {
   "cell_type": "code",
   "execution_count": 8,
   "id": "309ceda2",
   "metadata": {},
   "outputs": [
    {
     "name": "stdout",
     "output_type": "stream",
     "text": [
      "[12932.73748079  8247.92342286]\n"
     ]
    }
   ],
   "source": [
    "print(final_theta)"
   ]
  },
  {
   "cell_type": "code",
   "execution_count": 9,
   "id": "8992cf3a",
   "metadata": {},
   "outputs": [
    {
     "name": "stdout",
     "output_type": "stream",
     "text": [
      "[-2.         -1.11111111 -0.22222222  0.66666667  1.55555556  2.44444444\n",
      "  3.33333333  4.22222222  5.11111111  6.        ]\n"
     ]
    }
   ],
   "source": [
    "#Plot the line for testing data\n",
    "xtest = np.linspace(-2,6,10)\n",
    "print(xtest)"
   ]
  },
  {
   "cell_type": "code",
   "execution_count": 10,
   "id": "b426a150",
   "metadata": {},
   "outputs": [
    {
     "data": {
      "image/png": "[encoded data removed]",
      "text/plain": [
       "<Figure size 432x288 with 1 Axes>"
      ]
     },
     "metadata": {
      "needs_background": "light"
     },
     "output_type": "display_data"
    }
   ],
   "source": [
    "plt.scatter(X,Y,label='Training Data')\n",
    "plt.plot(xtest, hypothesis(xtest, final_theta), color = 'red', label=\"Prediction\")\n",
    "plt.legend()\n",
    "plt.show()"
   ]
  },
  {
   "cell_type": "code",
   "execution_count": null,
   "id": "49465ed0",
   "metadata": {},
   "outputs": [],
   "source": []
  }
 ],
 "metadata": {
  "kernelspec": {
   "display_name": "Python 3 (ipykernel)",
   "language": "python",
   "name": "python3"
  },
  "language_info": {
   "codemirror_mode": {
    "name": "ipython",
    "version": 3
   },
   "file_extension": ".py",
   "mimetype": "text/x-python",
   "name": "python",
   "nbconvert_exporter": "python",
   "pygments_lexer": "ipython3",
   "version": "3.8.1"
  }
 },
 "nbformat": 4,
 "nbformat_minor": 5
}
